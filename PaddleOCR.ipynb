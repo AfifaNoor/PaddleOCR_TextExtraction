{
 "cells": [
  {
   "cell_type": "code",
   "execution_count": null,
   "metadata": {},
   "outputs": [],
   "source": [
    "pip install paddleocr"
   ]
  },
  {
   "cell_type": "code",
   "execution_count": null,
   "metadata": {},
   "outputs": [],
   "source": [
    "pip install paddlepaddle paddleocr opencv-python"
   ]
  },
  {
   "cell_type": "code",
   "execution_count": null,
   "metadata": {},
   "outputs": [],
   "source": [
    "pip install protobuf==3.20.*"
   ]
  },
  {
   "cell_type": "code",
   "execution_count": null,
   "metadata": {},
   "outputs": [],
   "source": [
    "import os\n",
    "os.environ[\"PROTOCOL_BUFFERS_PYTHON_IMPLEMENTATION\"] = \"python\"\n"
   ]
  },
  {
   "cell_type": "code",
   "execution_count": null,
   "metadata": {},
   "outputs": [],
   "source": [
    "import os\n",
    "import cv2\n",
    "import json\n",
    "import numpy as np\n",
    "from paddleocr import PaddleOCR\n",
    "\n",
    "def get_coords_and_text(image_path, output_json_path, raw_ocr_json_path):\n",
    "    try:\n",
    "        coor_txt_list = []\n",
    "\n",
    "        # Initialize PaddleOCR\n",
    "        ocr = PaddleOCR(\n",
    "            use_angle_cls=True, \n",
    "            lang='en', \n",
    "            use_gpu=False\n",
    "        )\n",
    "\n",
    "        # Read image\n",
    "        image = cv2.imread(image_path)\n",
    "        if image is None:\n",
    "            raise ValueError(f\"Unable to read image from path: {image_path}\")\n",
    "\n",
    "        # Perform OCR using PaddleOCR\n",
    "        result = ocr.ocr(image_path, cls=True)\n",
    "        \n",
    "        # Save the raw OCR result\n",
    "        with open(raw_ocr_json_path, 'w') as raw_json_file:\n",
    "            json.dump(result, raw_json_file, indent=4)\n",
    "        \n",
    "        print(\"OCR Result saved to:\", raw_ocr_json_path)  # Debugging output\n",
    "\n",
    "        # Check if result is empty\n",
    "        if not result or not result[0]:\n",
    "            raise ValueError(\"No text detected in the image.\")\n",
    "\n",
    "        for line in result[0]:\n",
    "            bbox, (text, conf) = line[:4], line[1]\n",
    "            print(f\"Processing line: BBox={bbox}, Text={text}, Conf={conf}\")  # Debugging output\n",
    "\n",
    "            try:\n",
    "                # Ensure the coordinates are numeric and in integers\n",
    "                bbox_coords = [[int(round(p[0])), int(round(p[1]))] for p in bbox]\n",
    "\n",
    "                # Prepare bounding box in the format required\n",
    "                x_min = min([coord[0] for coord in bbox_coords])\n",
    "                y_min = min([coord[1] for coord in bbox_coords])\n",
    "                x_max = max([coord[0] for coord in bbox_coords])\n",
    "                y_max = max([coord[1] for coord in bbox_coords])\n",
    "                bbox_coords = [x_min, y_min, x_max, y_max]\n",
    "\n",
    "                coor_txt_dict = {\n",
    "                    \"name\": text,\n",
    "                    \"coords\": bbox_coords,\n",
    "                    \"conf_value\": conf\n",
    "                }\n",
    "                coor_txt_list.append(coor_txt_dict)\n",
    "                \n",
    "                # Draw bounding box on the image\n",
    "                bbox_array = np.array(bbox_coords, dtype=np.int32).reshape((-1, 1, 2))\n",
    "                cv2.polylines(image, [bbox_array], isClosed=True, color=(0, 255, 0), thickness=2)\n",
    "\n",
    "            except Exception as e:\n",
    "                print(f\"Error processing line {line}: {e}\")\n",
    "                continue\n",
    "\n",
    "        # Ensure output directory exists\n",
    "        output_dir = os.path.dirname(output_json_path)\n",
    "        if not os.path.exists(output_dir):\n",
    "            os.makedirs(output_dir)\n",
    "\n",
    "        # Save the extracted data as JSON\n",
    "        with open(output_json_path, 'w') as fp:\n",
    "            json.dump(coor_txt_list, fp, indent=4)\n",
    "        \n",
    "        # Debugging output\n",
    "        print(\"Processed JSON data written successfully.\")\n",
    "\n",
    "        # Save the image with bounding boxes\n",
    "        output_image_path = os.path.join(output_dir, f\"{os.path.basename(image_path).split('.')[0]}_boxed.png\")\n",
    "        cv2.imwrite(output_image_path, image)\n",
    "        print(f\"Image with bounding boxes saved to {output_image_path}\")\n",
    "\n",
    "    except Exception as e:\n",
    "        print(f\"An error occurred: {e}\")\n",
    "\n",
    "# Example usage\n",
    "image_path = r\"C:\\PaddleOCR_TextExtraction\\page_7.png\"\n",
    "output_json_path = r\"C:\\Users\\Aventior\\Documents\\Paddleocr_result\\Paddleocr_result.json\"\n",
    "raw_ocr_json_path = r\"C:\\PaddleOCR_TextExtraction\\page_7.json\"\n",
    "\n",
    "get_coords_and_text(image_path, output_json_path, raw_ocr_json_path)\n"
   ]
  },
  {
   "cell_type": "code",
   "execution_count": null,
   "metadata": {},
   "outputs": [],
   "source": [
    "from paddleocr import __version__\n",
    "\n",
    "print(f\"PaddleOCR version: {__version__}\")\n"
   ]
  },
  {
   "cell_type": "code",
   "execution_count": null,
   "metadata": {},
   "outputs": [],
   "source": []
  }
 ],
 "metadata": {
  "kernelspec": {
   "display_name": "GCP Cloud Vision",
   "language": "python",
   "name": "gcp-cloud-vision"
  },
  "language_info": {
   "codemirror_mode": {
    "name": "ipython",
    "version": 3
   },
   "file_extension": ".py",
   "mimetype": "text/x-python",
   "name": "python",
   "nbconvert_exporter": "python",
   "pygments_lexer": "ipython3",
   "version": "3.11.5"
  }
 },
 "nbformat": 4,
 "nbformat_minor": 2
}
